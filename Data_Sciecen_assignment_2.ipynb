{
 "cells": [
  {
   "cell_type": "code",
   "execution_count": 5,
   "metadata": {},
   "outputs": [],
   "source": [
    "import numpy as np"
   ]
  },
  {
   "cell_type": "markdown",
   "metadata": {},
   "source": [
    "QUESTION 1\n"
   ]
  },
  {
   "cell_type": "code",
   "execution_count": 6,
   "metadata": {},
   "outputs": [
    {
     "name": "stdout",
     "output_type": "stream",
     "text": [
      "[[ 3  1]\n",
      " [-3  7]]\n",
      "[[ 5  0]\n",
      " [-9 12]]\n",
      "[[ 4 -7]\n",
      " [ 6  1]]\n"
     ]
    }
   ],
   "source": [
    "A = np.array([[2,-1],[0,3]])\n",
    "B = np.array([[1,2],[-3,4]])\n",
    "\n",
    "#For question 1(a)\n",
    "print(A+B)\n",
    "\n",
    "#For question 1(b)\n",
    "print(A @ B)\n",
    "\n",
    "#For question 1(c)\n",
    "print(3*A-2*B)"
   ]
  },
  {
   "cell_type": "markdown",
   "metadata": {},
   "source": [
    "QUESTION2"
   ]
  },
  {
   "cell_type": "code",
   "execution_count": 7,
   "metadata": {},
   "outputs": [
    {
     "name": "stdout",
     "output_type": "stream",
     "text": [
      "The determinant of matrix A is: 6.0\n",
      "\n",
      "Inverse of matrix A exists.\n",
      "The inverse of the matrix A is:\n",
      "[[0.5        0.16666667]\n",
      " [0.         0.33333333]]\n"
     ]
    }
   ],
   "source": [
    "det = round(np.linalg.det(A),2)\n",
    "print(f\"The determinant of matrix A is: {det}\")\n",
    "\n",
    "print()\n",
    "#For question 2(b)\n",
    "if(not det==0):\n",
    "    print(\"Inverse of matrix A exists.\")\n",
    "    inverse = np.linalg.inv(A)\n",
    "    print(\"The inverse of the matrix A is:\")\n",
    "    print(inverse)\n",
    "else:\n",
    "    print(\"Inverse of matrix A doesn't exist.\")"
   ]
  },
  {
   "cell_type": "markdown",
   "metadata": {},
   "source": [
    "QUESTION3"
   ]
  },
  {
   "cell_type": "code",
   "execution_count": 8,
   "metadata": {},
   "outputs": [
    {
     "name": "stdout",
     "output_type": "stream",
     "text": [
      "The eigen values of matrix A are: [2. 3.]\n",
      "\n",
      "The eigen vectors of matrix A are: [[ 1.         -0.70710678]\n",
      " [ 0.          0.70710678]]\n"
     ]
    }
   ],
   "source": [
    "C = np.array([[4,1],[-2,1]])\n",
    "egval,egvec = np.linalg.eig(A)\n",
    "print(f\"The eigen values of matrix A are: {egval}\")\n",
    "print()\n",
    "print(f\"The eigen vectors of matrix A are: {egvec}\")"
   ]
  },
  {
   "cell_type": "markdown",
   "metadata": {},
   "source": [
    "QUESTION4"
   ]
  },
  {
   "cell_type": "code",
   "execution_count": 9,
   "metadata": {},
   "outputs": [
    {
     "name": "stdout",
     "output_type": "stream",
     "text": [
      "The predicted price of car 3 is: 40.00\n"
     ]
    }
   ],
   "source": [
    "X = np.array([\n",
    "    [1, 4, 1.5, 100],  # Car 1\n",
    "    [1, 6, 2.0, 150]   # Car 2\n",
    "])\n",
    "y = np.array([20, 30])  # Prices of cars 1 and 2\n",
    "\n",
    "# Compute coefficients (beta) using the pseudo-inverse\n",
    "X_transpose = X.T\n",
    "beta = np.linalg.pinv(X_transpose @ X) @ X_transpose @ y\n",
    "\n",
    "# Features for car 3 (including the bias term)\n",
    "car_3_features = np.array([1, 8, 3.0, 200])\n",
    "\n",
    "# Predict the price of car 3\n",
    "price_car_3 = car_3_features @ beta\n",
    "\n",
    "# Output the result\n",
    "print(f\"The predicted price of car 3 is: {price_car_3:.2f}\")"
   ]
  }
 ],
 "metadata": {
  "kernelspec": {
   "display_name": "Python 3",
   "language": "python",
   "name": "python3"
  },
  "language_info": {
   "codemirror_mode": {
    "name": "ipython",
    "version": 3
   },
   "file_extension": ".py",
   "mimetype": "text/x-python",
   "name": "python",
   "nbconvert_exporter": "python",
   "pygments_lexer": "ipython3",
   "version": "3.13.1"
  }
 },
 "nbformat": 4,
 "nbformat_minor": 2
}
